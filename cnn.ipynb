{
  "nbformat": 4,
  "nbformat_minor": 0,
  "metadata": {
    "orig_nbformat": 2,
    "colab": {
      "name": "hw1_5_VGG16.ipynb",
      "provenance": [],
      "collapsed_sections": []
    },
    "kernelspec": {
      "name": "python3",
      "display_name": "Python 3"
    },
    "accelerator": "GPU"
  },
  "cells": [
    {
      "cell_type": "code",
      "metadata": {
        "id": "Db-rgGK308oa",
        "outputId": "596a48a1-4fb8-4e27-f9df-0d8436b3540c",
        "colab": {
          "base_uri": "https://localhost:8080/"
        }
      },
      "source": [
        "import tensorflow as tf\n",
        "import numpy as np\n",
        "import os\n",
        "import random\n",
        "import time\n",
        "import matplotlib\n",
        "matplotlib.rcParams['toolbar'] = 'None' \n",
        "import matplotlib.pyplot as plt\n",
        "from tensorflow.keras.layers import Conv2D, MaxPooling2D, Flatten, Dense, BatchNormalization, Dropout\n",
        "\n",
        "# model path\n",
        "model_path = 'model/VGG16.h5'\n",
        "\n",
        "# data\n",
        "cifar10 = tf.keras.datasets.cifar10\n",
        "((x_train, y_train), (x_test, y_test)) = cifar10.load_data()\n",
        "# normalized  the data\n",
        "x_train_n, x_test_n = x_train / 255.0, x_test / 255.0\n",
        "\n",
        "# label names\n",
        "class_names = ['airplane', 'automobile', 'bird', 'cat', 'deer', 'dog', 'frog', 'horse', 'ship', 'truck']\n",
        "\n",
        "# training hyperparameters\n",
        "batch_size = 32\n",
        "learning_rate = 0.001\n",
        "optimizer = 'Adam'\n",
        "epochs = 40\n",
        "\n",
        "# structure of the model\n",
        "model = tf.keras.models.Sequential([\n",
        "    Conv2D(64, (3, 3), input_shape=(32, 32, 3), padding='same', activation='relu'), # conv1_1\n",
        "    Conv2D(64, (3, 3), padding='same', activation='relu'), # conv1_2\n",
        "    MaxPooling2D(pool_size=(2, 2), strides=2), # maxpool1\n",
        "    BatchNormalization(),\n",
        "    Conv2D(128, (3, 3), padding='same', activation='relu'), # conv2_1\n",
        "    Conv2D(128, (3, 3), padding='same', activation='relu'), # conv2_2\n",
        "    MaxPooling2D(pool_size=(2, 2), strides=2), # maxpool2\n",
        "    BatchNormalization(),\n",
        "    Conv2D(256, (3, 3), padding='same', activation='relu'), # conv3_1\n",
        "    Conv2D(256, (3, 3), padding='same', activation='relu'), # conv3_2\n",
        "    Conv2D(256, (3, 3), padding='same', activation='relu'), # conv3_3\n",
        "    MaxPooling2D(pool_size=(2, 2), strides=2), # maxpool3\n",
        "    BatchNormalization(),\n",
        "    Conv2D(512, (3, 3), padding='same', activation='relu'), # conv4_1\n",
        "    Conv2D(512, (3, 3), padding='same', activation='relu'), # conv4_2\n",
        "    Conv2D(512, (3, 3), padding='same', activation='relu'), # conv4_3\n",
        "    BatchNormalization(),\n",
        "    MaxPooling2D(pool_size=(2, 2), strides=2), # maxpool4\n",
        "    Conv2D(512, (3, 3), padding='same', activation='relu'), # conv5_1\n",
        "    Conv2D(512, (3, 3), padding='same', activation='relu'), # conv5_2\n",
        "    Conv2D(512, (3, 3), padding='same', activation='relu'), # conv5_3\n",
        "    MaxPooling2D(pool_size=(2, 2), strides=2), # maxpool5\n",
        "    BatchNormalization(),\n",
        "    Flatten(), # flatten\n",
        "    Dense(4096, activation='relu'), # fc1\n",
        "    Dense(4096, activation='relu'), # fc2\n",
        "    Dense(10, activation='softmax'), # output (with softmax) \n",
        "], name='VGG16')"
      ],
      "execution_count": 1,
      "outputs": [
        {
          "output_type": "stream",
          "text": [
            "Downloading data from https://www.cs.toronto.edu/~kriz/cifar-10-python.tar.gz\n",
            "170500096/170498071 [==============================] - 2s 0us/step\n"
          ],
          "name": "stdout"
        }
      ]
    },
    {
      "cell_type": "code",
      "metadata": {
        "id": "1NdW4BnV08oj",
        "outputId": "738f9219-993b-4cbf-a9e6-5fd8afd3a14d",
        "colab": {
          "base_uri": "https://localhost:8080/"
        }
      },
      "source": [
        "model.summary()"
      ],
      "execution_count": 2,
      "outputs": [
        {
          "output_type": "stream",
          "text": [
            "Model: \"VGG16\"\n",
            "_________________________________________________________________\n",
            "Layer (type)                 Output Shape              Param #   \n",
            "=================================================================\n",
            "conv2d (Conv2D)              (None, 32, 32, 64)        1792      \n",
            "_________________________________________________________________\n",
            "conv2d_1 (Conv2D)            (None, 32, 32, 64)        36928     \n",
            "_________________________________________________________________\n",
            "max_pooling2d (MaxPooling2D) (None, 16, 16, 64)        0         \n",
            "_________________________________________________________________\n",
            "batch_normalization (BatchNo (None, 16, 16, 64)        256       \n",
            "_________________________________________________________________\n",
            "conv2d_2 (Conv2D)            (None, 16, 16, 128)       73856     \n",
            "_________________________________________________________________\n",
            "conv2d_3 (Conv2D)            (None, 16, 16, 128)       147584    \n",
            "_________________________________________________________________\n",
            "max_pooling2d_1 (MaxPooling2 (None, 8, 8, 128)         0         \n",
            "_________________________________________________________________\n",
            "batch_normalization_1 (Batch (None, 8, 8, 128)         512       \n",
            "_________________________________________________________________\n",
            "conv2d_4 (Conv2D)            (None, 8, 8, 256)         295168    \n",
            "_________________________________________________________________\n",
            "conv2d_5 (Conv2D)            (None, 8, 8, 256)         590080    \n",
            "_________________________________________________________________\n",
            "conv2d_6 (Conv2D)            (None, 8, 8, 256)         590080    \n",
            "_________________________________________________________________\n",
            "max_pooling2d_2 (MaxPooling2 (None, 4, 4, 256)         0         \n",
            "_________________________________________________________________\n",
            "batch_normalization_2 (Batch (None, 4, 4, 256)         1024      \n",
            "_________________________________________________________________\n",
            "conv2d_7 (Conv2D)            (None, 4, 4, 512)         1180160   \n",
            "_________________________________________________________________\n",
            "conv2d_8 (Conv2D)            (None, 4, 4, 512)         2359808   \n",
            "_________________________________________________________________\n",
            "conv2d_9 (Conv2D)            (None, 4, 4, 512)         2359808   \n",
            "_________________________________________________________________\n",
            "batch_normalization_3 (Batch (None, 4, 4, 512)         2048      \n",
            "_________________________________________________________________\n",
            "max_pooling2d_3 (MaxPooling2 (None, 2, 2, 512)         0         \n",
            "_________________________________________________________________\n",
            "conv2d_10 (Conv2D)           (None, 2, 2, 512)         2359808   \n",
            "_________________________________________________________________\n",
            "conv2d_11 (Conv2D)           (None, 2, 2, 512)         2359808   \n",
            "_________________________________________________________________\n",
            "conv2d_12 (Conv2D)           (None, 2, 2, 512)         2359808   \n",
            "_________________________________________________________________\n",
            "max_pooling2d_4 (MaxPooling2 (None, 1, 1, 512)         0         \n",
            "_________________________________________________________________\n",
            "batch_normalization_4 (Batch (None, 1, 1, 512)         2048      \n",
            "_________________________________________________________________\n",
            "flatten (Flatten)            (None, 512)               0         \n",
            "_________________________________________________________________\n",
            "dense (Dense)                (None, 4096)              2101248   \n",
            "_________________________________________________________________\n",
            "dense_1 (Dense)              (None, 4096)              16781312  \n",
            "_________________________________________________________________\n",
            "dense_2 (Dense)              (None, 10)                40970     \n",
            "=================================================================\n",
            "Total params: 33,644,106\n",
            "Trainable params: 33,641,162\n",
            "Non-trainable params: 2,944\n",
            "_________________________________________________________________\n"
          ],
          "name": "stdout"
        }
      ]
    },
    {
      "cell_type": "code",
      "metadata": {
        "id": "6YTJ9C1o08on",
        "outputId": "4903c4ad-aa09-48b9-98fc-10b2ca9aee4b",
        "colab": {
          "base_uri": "https://localhost:8080/",
          "height": 1000
        }
      },
      "source": [
        "# choose a optimizer\n",
        "if optimizer.upper() == 'ADAM':\n",
        "    opt = tf.keras.optimizers.Adam(learning_rate=learning_rate)\n",
        "elif optimizer.upper() == 'SGD':\n",
        "    opt = tf.keras.optimizers.SGD(learning_rate=learning_rate)\n",
        "\n",
        "# compile the model, prepare to train\n",
        "model.compile(\n",
        "    optimizer=opt,\n",
        "    loss=tf.keras.losses.SparseCategoricalCrossentropy(from_logits=False), # from_logits=False: output layer is already softmax\n",
        "    metrics=['accuracy']\n",
        ")\n",
        "\n",
        "# training\n",
        "history_training = model.fit(x_train_n, y_train, batch_size=batch_size, epochs=epochs, validation_data=(x_test_n, y_test))\n",
        "\n",
        "# save model\n",
        "model.save_weights(model_path)\n",
        "\n",
        "# plot\n",
        "training_accuracy = np.array(history_training.history['accuracy']) * 100\n",
        "training_loss = history_training.history['loss']\n",
        "testing_accuracy = np.array(history_training.history['val_accuracy']) * 100\n",
        "\n",
        "plt.figure('Accuracy and Loss')\n",
        "plt.subplot(2, 1, 1)\n",
        "plt.title('Accuracy')\n",
        "plt.plot(training_accuracy, label='Training')\n",
        "plt.plot(testing_accuracy, label = 'Testing')\n",
        "plt.ylabel('%')\n",
        "plt.legend(loc='lower right')\n",
        "plt.subplot(2, 1, 2)\n",
        "plt.plot(training_loss)\n",
        "plt.xlabel('epoch')\n",
        "plt.ylabel('loss')\n",
        "plt.show()\n",
        "t = time.localtime()\n",
        "plt.savefig('images/history_' + time.strftime(\"%Y%m%d_%H%M%S\", t) + '.png')"
      ],
      "execution_count": 3,
      "outputs": [
        {
          "output_type": "stream",
          "text": [
            "Epoch 1/40\n",
            "1563/1563 [==============================] - 53s 34ms/step - loss: 1.8584 - accuracy: 0.2705 - val_loss: 2.1789 - val_accuracy: 0.2428\n",
            "Epoch 2/40\n",
            "1563/1563 [==============================] - 54s 35ms/step - loss: 1.4936 - accuracy: 0.4224 - val_loss: 1.5034 - val_accuracy: 0.4369\n",
            "Epoch 3/40\n",
            "1563/1563 [==============================] - 54s 35ms/step - loss: 1.2225 - accuracy: 0.5583 - val_loss: 1.1749 - val_accuracy: 0.5833\n",
            "Epoch 4/40\n",
            "1563/1563 [==============================] - 54s 35ms/step - loss: 0.9711 - accuracy: 0.6629 - val_loss: 1.1801 - val_accuracy: 0.6038\n",
            "Epoch 5/40\n",
            "1563/1563 [==============================] - 54s 34ms/step - loss: 0.8013 - accuracy: 0.7314 - val_loss: 1.5229 - val_accuracy: 0.5779\n",
            "Epoch 6/40\n",
            "1563/1563 [==============================] - 54s 35ms/step - loss: 0.6783 - accuracy: 0.7790 - val_loss: 0.6941 - val_accuracy: 0.7740\n",
            "Epoch 7/40\n",
            "1563/1563 [==============================] - 54s 34ms/step - loss: 0.5688 - accuracy: 0.8140 - val_loss: 0.7318 - val_accuracy: 0.7703\n",
            "Epoch 8/40\n",
            "1563/1563 [==============================] - 54s 34ms/step - loss: 0.5053 - accuracy: 0.8367 - val_loss: 0.8033 - val_accuracy: 0.7415\n",
            "Epoch 9/40\n",
            "1563/1563 [==============================] - 54s 34ms/step - loss: 0.4173 - accuracy: 0.8669 - val_loss: 0.7676 - val_accuracy: 0.7748\n",
            "Epoch 10/40\n",
            "1563/1563 [==============================] - 53s 34ms/step - loss: 0.3549 - accuracy: 0.8872 - val_loss: 0.6283 - val_accuracy: 0.8069\n",
            "Epoch 11/40\n",
            "1563/1563 [==============================] - 54s 34ms/step - loss: 0.3015 - accuracy: 0.9038 - val_loss: 0.6605 - val_accuracy: 0.8064\n",
            "Epoch 12/40\n",
            "1563/1563 [==============================] - 54s 34ms/step - loss: 0.2532 - accuracy: 0.9191 - val_loss: 0.6474 - val_accuracy: 0.8129\n",
            "Epoch 13/40\n",
            "1563/1563 [==============================] - 54s 34ms/step - loss: 0.2169 - accuracy: 0.9313 - val_loss: 0.6676 - val_accuracy: 0.8220\n",
            "Epoch 14/40\n",
            "1563/1563 [==============================] - 54s 34ms/step - loss: 0.1905 - accuracy: 0.9408 - val_loss: 0.7754 - val_accuracy: 0.7919\n",
            "Epoch 15/40\n",
            "1563/1563 [==============================] - 54s 34ms/step - loss: 0.1627 - accuracy: 0.9493 - val_loss: 0.9552 - val_accuracy: 0.8157\n",
            "Epoch 16/40\n",
            "1563/1563 [==============================] - 54s 34ms/step - loss: 0.1425 - accuracy: 0.9561 - val_loss: 0.7143 - val_accuracy: 0.8199\n",
            "Epoch 17/40\n",
            "1563/1563 [==============================] - 54s 34ms/step - loss: 0.1409 - accuracy: 0.9564 - val_loss: 0.9842 - val_accuracy: 0.7884\n",
            "Epoch 18/40\n",
            "1563/1563 [==============================] - 54s 34ms/step - loss: 0.1259 - accuracy: 0.9614 - val_loss: 0.7098 - val_accuracy: 0.8285\n",
            "Epoch 19/40\n",
            "1563/1563 [==============================] - 54s 34ms/step - loss: 0.1049 - accuracy: 0.9684 - val_loss: 0.7268 - val_accuracy: 0.8234\n",
            "Epoch 20/40\n",
            "1563/1563 [==============================] - 54s 34ms/step - loss: 0.0961 - accuracy: 0.9721 - val_loss: 0.7549 - val_accuracy: 0.8346\n",
            "Epoch 21/40\n",
            "1563/1563 [==============================] - 54s 34ms/step - loss: 0.0933 - accuracy: 0.9715 - val_loss: 0.7952 - val_accuracy: 0.8245\n",
            "Epoch 22/40\n",
            "1563/1563 [==============================] - 54s 35ms/step - loss: 0.0878 - accuracy: 0.9730 - val_loss: 0.8119 - val_accuracy: 0.8280\n",
            "Epoch 23/40\n",
            "1563/1563 [==============================] - 54s 34ms/step - loss: 0.0753 - accuracy: 0.9778 - val_loss: 0.8319 - val_accuracy: 0.8231\n",
            "Epoch 24/40\n",
            "1563/1563 [==============================] - 54s 34ms/step - loss: 0.0818 - accuracy: 0.9760 - val_loss: 0.8430 - val_accuracy: 0.8314\n",
            "Epoch 25/40\n",
            "1563/1563 [==============================] - 54s 34ms/step - loss: 0.0693 - accuracy: 0.9794 - val_loss: 0.7712 - val_accuracy: 0.8310\n",
            "Epoch 26/40\n",
            "1563/1563 [==============================] - 54s 34ms/step - loss: 0.0688 - accuracy: 0.9786 - val_loss: 0.9041 - val_accuracy: 0.8286\n",
            "Epoch 27/40\n",
            "1563/1563 [==============================] - 54s 35ms/step - loss: 0.0626 - accuracy: 0.9819 - val_loss: 0.9886 - val_accuracy: 0.8116\n",
            "Epoch 28/40\n",
            "1563/1563 [==============================] - 54s 34ms/step - loss: 0.0619 - accuracy: 0.9821 - val_loss: 0.8355 - val_accuracy: 0.8273\n",
            "Epoch 29/40\n",
            "1563/1563 [==============================] - 53s 34ms/step - loss: 0.0606 - accuracy: 0.9823 - val_loss: 1.0100 - val_accuracy: 0.8098\n",
            "Epoch 30/40\n",
            "1563/1563 [==============================] - 53s 34ms/step - loss: 0.0535 - accuracy: 0.9835 - val_loss: 0.9106 - val_accuracy: 0.8359\n",
            "Epoch 31/40\n",
            "1563/1563 [==============================] - 53s 34ms/step - loss: 0.0558 - accuracy: 0.9838 - val_loss: 1.0161 - val_accuracy: 0.8215\n",
            "Epoch 32/40\n",
            "1563/1563 [==============================] - 53s 34ms/step - loss: 0.0572 - accuracy: 0.9834 - val_loss: 2.0183 - val_accuracy: 0.8299\n",
            "Epoch 33/40\n",
            "1563/1563 [==============================] - 54s 34ms/step - loss: 0.0509 - accuracy: 0.9851 - val_loss: 0.8648 - val_accuracy: 0.8414\n",
            "Epoch 34/40\n",
            "1563/1563 [==============================] - 53s 34ms/step - loss: 0.0532 - accuracy: 0.9847 - val_loss: 0.8322 - val_accuracy: 0.8334\n",
            "Epoch 35/40\n",
            "1563/1563 [==============================] - 53s 34ms/step - loss: 0.0430 - accuracy: 0.9874 - val_loss: 0.9991 - val_accuracy: 0.8104\n",
            "Epoch 36/40\n",
            "1563/1563 [==============================] - 53s 34ms/step - loss: 0.0457 - accuracy: 0.9866 - val_loss: 1.6671 - val_accuracy: 0.8157\n",
            "Epoch 37/40\n",
            "1563/1563 [==============================] - 53s 34ms/step - loss: 0.0463 - accuracy: 0.9868 - val_loss: 0.8998 - val_accuracy: 0.8232\n",
            "Epoch 38/40\n",
            "1563/1563 [==============================] - 54s 34ms/step - loss: 0.0471 - accuracy: 0.9863 - val_loss: 0.9218 - val_accuracy: 0.8353\n",
            "Epoch 39/40\n",
            "1563/1563 [==============================] - 54s 35ms/step - loss: 0.0419 - accuracy: 0.9878 - val_loss: 0.8937 - val_accuracy: 0.8357\n",
            "Epoch 40/40\n",
            "1563/1563 [==============================] - 54s 35ms/step - loss: 0.0374 - accuracy: 0.9892 - val_loss: 0.8782 - val_accuracy: 0.8351\n"
          ],
          "name": "stdout"
        },
        {
          "output_type": "display_data",
          "data": {
            "image/png": "[encoded data removed]",
            "text/plain": [
              "<Figure size 432x288 with 2 Axes>"
            ]
          },
          "metadata": {
            "tags": [],
            "needs_background": "light"
          }
        },
        {
          "output_type": "display_data",
          "data": {
            "text/plain": [
              "<Figure size 432x288 with 0 Axes>"
            ]
          },
          "metadata": {
            "tags": []
          }
        }
      ]
    }
  ]
}