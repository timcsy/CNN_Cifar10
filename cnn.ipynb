{
  "nbformat": 4,
  "nbformat_minor": 0,
  "metadata": {
    "orig_nbformat": 2,
    "colab": {
      "name": "hw1_5.ipynb",
      "provenance": [],
      "collapsed_sections": []
    },
    "kernelspec": {
      "name": "python3",
      "display_name": "Python 3"
    },
    "accelerator": "GPU"
  },
  "cells": [
    {
      "cell_type": "code",
      "metadata": {
        "id": "Db-rgGK308oa"
      },
      "source": [
        "import tensorflow as tf\n",
        "import numpy as np\n",
        "import os\n",
        "import random\n",
        "import time\n",
        "import matplotlib\n",
        "matplotlib.rcParams['toolbar'] = 'None' \n",
        "import matplotlib.pyplot as plt\n",
        "from tensorflow.keras.layers import Conv2D, MaxPooling2D, GlobalAveragePooling2D\n",
        "\n",
        "class AllCNN(tf.keras.Model):\n",
        "    # structure of the model\n",
        "    def __init__(self, input_shape=(None, 32, 32, 3), name='All-CNN-C'):\n",
        "        super(AllCNN, self).__init__(name=name)\n",
        "        self.conv1_1 = Conv2D(96, (3, 3), input_shape=input_shape, padding='same', activation='relu')\n",
        "        self.conv1_2 = Conv2D(96, (3, 3), padding='same', activation='relu')\n",
        "        self.conv2_1 = Conv2D(96, (3, 3), padding='same', activation='relu', strides=2)\n",
        "        self.conv3_1 = Conv2D(192, (3, 3), padding='same', activation='relu')\n",
        "        self.conv3_2 = Conv2D(192, (3, 3), padding='same', activation='relu')\n",
        "        self.conv4_1 = Conv2D(192, (3, 3), padding='same', activation='relu', strides=2)\n",
        "        self.conv5_1 = Conv2D(192, (3, 3), padding='valid', activation='relu')\n",
        "        self.conv5_2 = Conv2D(192, (1, 1), padding='same', activation='relu')\n",
        "        self.conv5_3 = Conv2D(10, (1, 1), padding='same', activation='relu')\n",
        "        self.gav = GlobalAveragePooling2D()\n",
        "\n",
        "    def call(self, inputs):\n",
        "        x = self.conv1_1(inputs)\n",
        "        x = self.conv1_2(x)\n",
        "        x = self.conv2_1(x)\n",
        "        x = tf.nn.dropout(x, 0.5)\n",
        "        x = self.conv3_1(x)\n",
        "        x = self.conv3_2(x)\n",
        "        x = self.conv4_1(x)\n",
        "        x = tf.nn.dropout(x, 0.5)\n",
        "        x = self.conv5_1(x)\n",
        "        x = self.conv5_2(x)\n",
        "        x = self.conv5_3(x)\n",
        "        x = self.gav(x)\n",
        "        x = tf.nn.softmax(x)\n",
        "        return x\n",
        "    \n",
        "    def model(self, shape=(None, 32, 32, 3)):\n",
        "        x = tf.keras.Input(shape=shape[1:])\n",
        "        return tf.keras.Model(inputs=[x], outputs=self.call(x), name=self.name)\n",
        "\n",
        "    def summary(self, shape=(None, 32, 32, 3)):\n",
        "        return self.model(shape).summary()\n",
        "\n",
        "# model path\n",
        "model_path = 'AllCNN.h5'\n",
        "\n",
        "# data\n",
        "cifar10 = tf.keras.datasets.cifar10\n",
        "((x_train, y_train), (x_test, y_test)) = cifar10.load_data()\n",
        "# normalized  the data\n",
        "x_train_n, x_test_n = x_train / 255.0, x_test / 255.0\n",
        "\n",
        "# label names\n",
        "class_names = ['airplane', 'automobile', 'bird', 'cat', 'deer', 'dog', 'frog', 'horse', 'ship', 'truck']\n",
        "\n",
        "# training hyperparameters\n",
        "batch_size = 32\n",
        "learning_rate = 0.01\n",
        "optimizer = 'SGD'\n",
        "epochs = 20\n",
        "\n",
        "# structure of the model\n",
        "model = AllCNN(input_shape=(None, 32, 32, 3))"
      ],
      "execution_count": 85,
      "outputs": []
    },
    {
      "cell_type": "code",
      "metadata": {
        "id": "1NdW4BnV08oj",
        "outputId": "32738cf1-1781-4527-9ad4-ed366f2d182a",
        "colab": {
          "base_uri": "https://localhost:8080/",
          "height": 1000
        }
      },
      "source": [
        "model.summary()"
      ],
      "execution_count": 86,
      "outputs": [
        {
          "output_type": "stream",
          "text": [
            "Model: \"All-CNN-C\"\n",
            "__________________________________________________________________________________________________\n",
            "Layer (type)                    Output Shape         Param #     Connected to                     \n",
            "==================================================================================================\n",
            "input_9 (InputLayer)            [(None, 32, 32, 3)]  0                                            \n",
            "__________________________________________________________________________________________________\n",
            "conv2d_468 (Conv2D)             (None, 32, 32, 96)   2688        input_9[0][0]                    \n",
            "__________________________________________________________________________________________________\n",
            "conv2d_469 (Conv2D)             (None, 32, 32, 96)   83040       conv2d_468[0][0]                 \n",
            "__________________________________________________________________________________________________\n",
            "conv2d_470 (Conv2D)             (None, 16, 16, 96)   83040       conv2d_469[0][0]                 \n",
            "__________________________________________________________________________________________________\n",
            "tf_op_layer_Shape_14 (TensorFlo [(4,)]               0           conv2d_470[0][0]                 \n",
            "__________________________________________________________________________________________________\n",
            "tf_op_layer_RandomUniform_14 (T [(None, 16, 16, 96)] 0           tf_op_layer_Shape_14[0][0]       \n",
            "__________________________________________________________________________________________________\n",
            "tf_op_layer_GreaterEqual_14 (Te [(None, 16, 16, 96)] 0           tf_op_layer_RandomUniform_14[0][0\n",
            "__________________________________________________________________________________________________\n",
            "tf_op_layer_Mul_28 (TensorFlowO [(None, 16, 16, 96)] 0           conv2d_470[0][0]                 \n",
            "__________________________________________________________________________________________________\n",
            "tf_op_layer_Cast_14 (TensorFlow [(None, 16, 16, 96)] 0           tf_op_layer_GreaterEqual_14[0][0]\n",
            "__________________________________________________________________________________________________\n",
            "tf_op_layer_Mul_29 (TensorFlowO [(None, 16, 16, 96)] 0           tf_op_layer_Mul_28[0][0]         \n",
            "                                                                 tf_op_layer_Cast_14[0][0]        \n",
            "__________________________________________________________________________________________________\n",
            "conv2d_471 (Conv2D)             (None, 16, 16, 192)  166080      tf_op_layer_Mul_29[0][0]         \n",
            "__________________________________________________________________________________________________\n",
            "conv2d_472 (Conv2D)             (None, 16, 16, 192)  331968      conv2d_471[0][0]                 \n",
            "__________________________________________________________________________________________________\n",
            "conv2d_473 (Conv2D)             (None, 8, 8, 192)    331968      conv2d_472[0][0]                 \n",
            "__________________________________________________________________________________________________\n",
            "tf_op_layer_Shape_15 (TensorFlo [(4,)]               0           conv2d_473[0][0]                 \n",
            "__________________________________________________________________________________________________\n",
            "tf_op_layer_RandomUniform_15 (T [(None, 8, 8, 192)]  0           tf_op_layer_Shape_15[0][0]       \n",
            "__________________________________________________________________________________________________\n",
            "tf_op_layer_GreaterEqual_15 (Te [(None, 8, 8, 192)]  0           tf_op_layer_RandomUniform_15[0][0\n",
            "__________________________________________________________________________________________________\n",
            "tf_op_layer_Mul_30 (TensorFlowO [(None, 8, 8, 192)]  0           conv2d_473[0][0]                 \n",
            "__________________________________________________________________________________________________\n",
            "tf_op_layer_Cast_15 (TensorFlow [(None, 8, 8, 192)]  0           tf_op_layer_GreaterEqual_15[0][0]\n",
            "__________________________________________________________________________________________________\n",
            "tf_op_layer_Mul_31 (TensorFlowO [(None, 8, 8, 192)]  0           tf_op_layer_Mul_30[0][0]         \n",
            "                                                                 tf_op_layer_Cast_15[0][0]        \n",
            "__________________________________________________________________________________________________\n",
            "conv2d_474 (Conv2D)             (None, 6, 6, 192)    331968      tf_op_layer_Mul_31[0][0]         \n",
            "__________________________________________________________________________________________________\n",
            "conv2d_475 (Conv2D)             (None, 6, 6, 192)    37056       conv2d_474[0][0]                 \n",
            "__________________________________________________________________________________________________\n",
            "conv2d_476 (Conv2D)             (None, 6, 6, 10)     1930        conv2d_475[0][0]                 \n",
            "__________________________________________________________________________________________________\n",
            "global_average_pooling2d_52 (Gl (None, 10)           0           conv2d_476[0][0]                 \n",
            "__________________________________________________________________________________________________\n",
            "tf_op_layer_Softmax_4 (TensorFl [(None, 10)]         0           global_average_pooling2d_52[0][0]\n",
            "==================================================================================================\n",
            "Total params: 1,369,738\n",
            "Trainable params: 1,369,738\n",
            "Non-trainable params: 0\n",
            "__________________________________________________________________________________________________\n"
          ],
          "name": "stdout"
        }
      ]
    },
    {
      "cell_type": "code",
      "metadata": {
        "id": "6YTJ9C1o08on",
        "outputId": "dff10c84-c17b-471a-bd26-58106bf97280",
        "colab": {
          "base_uri": "https://localhost:8080/",
          "height": 992
        }
      },
      "source": [
        "# choose a optimizer\n",
        "if optimizer.upper() == 'ADAM':\n",
        "    opt = tf.keras.optimizers.Adam(learning_rate=learning_rate)\n",
        "elif optimizer.upper() == 'SGD':\n",
        "    opt = tf.keras.optimizers.SGD(learning_rate=learning_rate, momentum=0.9)\n",
        "\n",
        "# compile the model, prepare to train\n",
        "model.compile(\n",
        "    optimizer=opt,\n",
        "    loss=tf.keras.losses.SparseCategoricalCrossentropy(from_logits=False), # from_logits=False: output layer is already softmax\n",
        "    metrics=['accuracy']\n",
        ")\n",
        "\n",
        "# training\n",
        "history_training = model.fit(x_train_n, y_train, batch_size=batch_size, epochs=epochs, validation_data=(x_test_n, y_test))\n",
        "\n",
        "# save model\n",
        "model.save_weights(model_path)\n",
        "\n",
        "# plot\n",
        "training_accuracy = np.array(history_training.history['accuracy']) * 100\n",
        "training_loss = history_training.history['loss']\n",
        "testing_accuracy = np.array(history_training.history['val_accuracy']) * 100\n",
        "\n",
        "plt.figure('Accuracy and Loss')\n",
        "plt.subplot(2, 1, 1)\n",
        "plt.title('Accuracy')\n",
        "plt.plot(training_accuracy, label='Training')\n",
        "plt.plot(testing_accuracy, label = 'Testing')\n",
        "plt.ylabel('%')\n",
        "plt.legend(loc='lower right')\n",
        "plt.subplot(2, 1, 2)\n",
        "plt.plot(training_loss)\n",
        "plt.xlabel('epoch')\n",
        "plt.ylabel('loss')\n",
        "plt.show()\n",
        "t = time.localtime()\n",
        "plt.savefig('history_' + time.strftime(\"%Y%m%d_%H%M%S\", t) + '.png')"
      ],
      "execution_count": 87,
      "outputs": [
        {
          "output_type": "stream",
          "text": [
            "Epoch 1/20\n",
            "1563/1563 [==============================] - 23s 14ms/step - loss: 2.1853 - accuracy: 0.1866 - val_loss: 2.0332 - val_accuracy: 0.2949\n",
            "Epoch 2/20\n",
            "1563/1563 [==============================] - 22s 14ms/step - loss: 1.8439 - accuracy: 0.3201 - val_loss: 1.6408 - val_accuracy: 0.3991\n",
            "Epoch 3/20\n",
            "1563/1563 [==============================] - 23s 14ms/step - loss: 1.5635 - accuracy: 0.4204 - val_loss: 1.4079 - val_accuracy: 0.4801\n",
            "Epoch 4/20\n",
            "1563/1563 [==============================] - 23s 15ms/step - loss: 1.3931 - accuracy: 0.4873 - val_loss: 1.2850 - val_accuracy: 0.5244\n",
            "Epoch 5/20\n",
            "1563/1563 [==============================] - 23s 15ms/step - loss: 1.2554 - accuracy: 0.5413 - val_loss: 1.1792 - val_accuracy: 0.5720\n",
            "Epoch 6/20\n",
            "1563/1563 [==============================] - 23s 15ms/step - loss: 1.1167 - accuracy: 0.5982 - val_loss: 1.0799 - val_accuracy: 0.6068\n",
            "Epoch 7/20\n",
            "1563/1563 [==============================] - 23s 15ms/step - loss: 0.9892 - accuracy: 0.6475 - val_loss: 0.9367 - val_accuracy: 0.6692\n",
            "Epoch 8/20\n",
            "1563/1563 [==============================] - 23s 15ms/step - loss: 0.8754 - accuracy: 0.6879 - val_loss: 0.8203 - val_accuracy: 0.7103\n",
            "Epoch 9/20\n",
            "1563/1563 [==============================] - 23s 15ms/step - loss: 0.7876 - accuracy: 0.7242 - val_loss: 0.7927 - val_accuracy: 0.7294\n",
            "Epoch 10/20\n",
            "1563/1563 [==============================] - 23s 15ms/step - loss: 0.7152 - accuracy: 0.7497 - val_loss: 0.7445 - val_accuracy: 0.7493\n",
            "Epoch 11/20\n",
            "1563/1563 [==============================] - 24s 15ms/step - loss: 0.6566 - accuracy: 0.7705 - val_loss: 0.7114 - val_accuracy: 0.7513\n",
            "Epoch 12/20\n",
            "1563/1563 [==============================] - 23s 15ms/step - loss: 0.6151 - accuracy: 0.7844 - val_loss: 0.6947 - val_accuracy: 0.7630\n",
            "Epoch 13/20\n",
            "1563/1563 [==============================] - 23s 15ms/step - loss: 0.5765 - accuracy: 0.7980 - val_loss: 0.6988 - val_accuracy: 0.7625\n",
            "Epoch 14/20\n",
            "1563/1563 [==============================] - 23s 15ms/step - loss: 0.5418 - accuracy: 0.8103 - val_loss: 0.6477 - val_accuracy: 0.7806\n",
            "Epoch 15/20\n",
            "1563/1563 [==============================] - 24s 15ms/step - loss: 0.5107 - accuracy: 0.8195 - val_loss: 0.6237 - val_accuracy: 0.7838\n",
            "Epoch 16/20\n",
            "1563/1563 [==============================] - 24s 15ms/step - loss: 0.4812 - accuracy: 0.8329 - val_loss: 0.6325 - val_accuracy: 0.7841\n",
            "Epoch 17/20\n",
            "1563/1563 [==============================] - 23s 15ms/step - loss: 0.4551 - accuracy: 0.8399 - val_loss: 0.6047 - val_accuracy: 0.7996\n",
            "Epoch 18/20\n",
            "1563/1563 [==============================] - 23s 15ms/step - loss: 0.4355 - accuracy: 0.8470 - val_loss: 0.6142 - val_accuracy: 0.7975\n",
            "Epoch 19/20\n",
            "1563/1563 [==============================] - 23s 15ms/step - loss: 0.4191 - accuracy: 0.8527 - val_loss: 0.6279 - val_accuracy: 0.7934\n",
            "Epoch 20/20\n",
            "1563/1563 [==============================] - 23s 15ms/step - loss: 0.3974 - accuracy: 0.8595 - val_loss: 0.5762 - val_accuracy: 0.8091\n"
          ],
          "name": "stdout"
        },
        {
          "output_type": "display_data",
          "data": {
            "image/png": "[encoded data removed]",
            "text/plain": [
              "<Figure size 432x288 with 2 Axes>"
            ]
          },
          "metadata": {
            "tags": [],
            "needs_background": "light"
          }
        },
        {
          "output_type": "display_data",
          "data": {
            "text/plain": [
              "<Figure size 432x288 with 0 Axes>"
            ]
          },
          "metadata": {
            "tags": []
          }
        }
      ]
    }
  ]
}